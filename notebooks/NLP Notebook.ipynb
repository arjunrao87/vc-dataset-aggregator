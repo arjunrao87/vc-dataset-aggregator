{
 "cells": [
  {
   "cell_type": "code",
   "execution_count": 3,
   "metadata": {},
   "outputs": [
    {
     "name": "stdout",
     "output_type": "stream",
     "text": [
      "$: dollar\n",
      "    $ -$ --$ A$ C$ HK$ M$ NZ$ S$ U.S.$ US$\n",
      "'': closing quotation mark\n",
      "    ' ''\n",
      "(: opening parenthesis\n",
      "    ( [ {\n",
      "): closing parenthesis\n",
      "    ) ] }\n",
      ",: comma\n",
      "    ,\n",
      "--: dash\n",
      "    --\n",
      ".: sentence terminator\n",
      "    . ! ?\n",
      ":: colon or ellipsis\n",
      "    : ; ...\n",
      "CC: conjunction, coordinating\n",
      "    & 'n and both but either et for less minus neither nor or plus so\n",
      "    therefore times v. versus vs. whether yet\n",
      "CD: numeral, cardinal\n",
      "    mid-1890 nine-thirty forty-two one-tenth ten million 0.5 one forty-\n",
      "    seven 1987 twenty '79 zero two 78-degrees eighty-four IX '60s .025\n",
      "    fifteen 271,124 dozen quintillion DM2,000 ...\n",
      "DT: determiner\n",
      "    all an another any both del each either every half la many much nary\n",
      "    neither no some such that the them these this those\n",
      "EX: existential there\n",
      "    there\n",
      "FW: foreign word\n",
      "    gemeinschaft hund ich jeux habeas Haementeria Herr K'ang-si vous\n",
      "    lutihaw alai je jour objets salutaris fille quibusdam pas trop Monte\n",
      "    terram fiche oui corporis ...\n",
      "IN: preposition or conjunction, subordinating\n",
      "    astride among uppon whether out inside pro despite on by throughout\n",
      "    below within for towards near behind atop around if like until below\n",
      "    next into if beside ...\n",
      "JJ: adjective or numeral, ordinal\n",
      "    third ill-mannered pre-war regrettable oiled calamitous first separable\n",
      "    ectoplasmic battery-powered participatory fourth still-to-be-named\n",
      "    multilingual multi-disciplinary ...\n",
      "JJR: adjective, comparative\n",
      "    bleaker braver breezier briefer brighter brisker broader bumper busier\n",
      "    calmer cheaper choosier cleaner clearer closer colder commoner costlier\n",
      "    cozier creamier crunchier cuter ...\n",
      "JJS: adjective, superlative\n",
      "    calmest cheapest choicest classiest cleanest clearest closest commonest\n",
      "    corniest costliest crassest creepiest crudest cutest darkest deadliest\n",
      "    dearest deepest densest dinkiest ...\n",
      "LS: list item marker\n",
      "    A A. B B. C C. D E F First G H I J K One SP-44001 SP-44002 SP-44005\n",
      "    SP-44007 Second Third Three Two * a b c d first five four one six three\n",
      "    two\n",
      "MD: modal auxiliary\n",
      "    can cannot could couldn't dare may might must need ought shall should\n",
      "    shouldn't will would\n",
      "NN: noun, common, singular or mass\n",
      "    common-carrier cabbage knuckle-duster Casino afghan shed thermostat\n",
      "    investment slide humour falloff slick wind hyena override subhumanity\n",
      "    machinist ...\n",
      "NNP: noun, proper, singular\n",
      "    Motown Venneboerger Czestochwa Ranzer Conchita Trumplane Christos\n",
      "    Oceanside Escobar Kreisler Sawyer Cougar Yvette Ervin ODI Darryl CTCA\n",
      "    Shannon A.K.C. Meltex Liverpool ...\n",
      "NNPS: noun, proper, plural\n",
      "    Americans Americas Amharas Amityvilles Amusements Anarcho-Syndicalists\n",
      "    Andalusians Andes Andruses Angels Animals Anthony Antilles Antiques\n",
      "    Apache Apaches Apocrypha ...\n",
      "NNS: noun, common, plural\n",
      "    undergraduates scotches bric-a-brac products bodyguards facets coasts\n",
      "    divestitures storehouses designs clubs fragrances averages\n",
      "    subjectivists apprehensions muses factory-jobs ...\n",
      "PDT: pre-determiner\n",
      "    all both half many quite such sure this\n",
      "POS: genitive marker\n",
      "    ' 's\n",
      "PRP: pronoun, personal\n",
      "    hers herself him himself hisself it itself me myself one oneself ours\n",
      "    ourselves ownself self she thee theirs them themselves they thou thy us\n",
      "PRP$: pronoun, possessive\n",
      "    her his mine my our ours their thy your\n",
      "RB: adverb\n",
      "    occasionally unabatingly maddeningly adventurously professedly\n",
      "    stirringly prominently technologically magisterially predominately\n",
      "    swiftly fiscally pitilessly ...\n",
      "RBR: adverb, comparative\n",
      "    further gloomier grander graver greater grimmer harder harsher\n",
      "    healthier heavier higher however larger later leaner lengthier less-\n",
      "    perfectly lesser lonelier longer louder lower more ...\n",
      "RBS: adverb, superlative\n",
      "    best biggest bluntest earliest farthest first furthest hardest\n",
      "    heartiest highest largest least less most nearest second tightest worst\n",
      "RP: particle\n",
      "    aboard about across along apart around aside at away back before behind\n",
      "    by crop down ever fast for forth from go high i.e. in into just later\n",
      "    low more off on open out over per pie raising start teeth that through\n",
      "    under unto up up-pp upon whole with you\n",
      "SYM: symbol\n",
      "    % & ' '' ''. ) ). * + ,. < = > @ A[fj] U.S U.S.S.R * ** ***\n",
      "TO: \"to\" as preposition or infinitive marker\n",
      "    to\n",
      "UH: interjection\n",
      "    Goodbye Goody Gosh Wow Jeepers Jee-sus Hubba Hey Kee-reist Oops amen\n",
      "    huh howdy uh dammit whammo shucks heck anyways whodunnit honey golly\n",
      "    man baby diddle hush sonuvabitch ...\n",
      "VB: verb, base form\n",
      "    ask assemble assess assign assume atone attention avoid bake balkanize\n",
      "    bank begin behold believe bend benefit bevel beware bless boil bomb\n",
      "    boost brace break bring broil brush build ...\n",
      "VBD: verb, past tense\n",
      "    dipped pleaded swiped regummed soaked tidied convened halted registered\n",
      "    cushioned exacted snubbed strode aimed adopted belied figgered\n",
      "    speculated wore appreciated contemplated ...\n",
      "VBG: verb, present participle or gerund\n",
      "    telegraphing stirring focusing angering judging stalling lactating\n",
      "    hankerin' alleging veering capping approaching traveling besieging\n",
      "    encrypting interrupting erasing wincing ...\n",
      "VBN: verb, past participle\n",
      "    multihulled dilapidated aerosolized chaired languished panelized used\n",
      "    experimented flourished imitated reunifed factored condensed sheared\n",
      "    unsettled primed dubbed desired ...\n",
      "VBP: verb, present tense, not 3rd person singular\n",
      "    predominate wrap resort sue twist spill cure lengthen brush terminate\n",
      "    appear tend stray glisten obtain comprise detest tease attract\n",
      "    emphasize mold postpone sever return wag ...\n",
      "VBZ: verb, present tense, 3rd person singular\n",
      "    bases reconstructs marks mixes displeases seals carps weaves snatches\n",
      "    slumps stretches authorizes smolders pictures emerges stockpiles\n",
      "    seduces fizzes uses bolsters slaps speaks pleads ...\n",
      "WDT: WH-determiner\n",
      "    that what whatever which whichever\n",
      "WP: WH-pronoun\n",
      "    that what whatever whatsoever which who whom whosoever\n",
      "WP$: WH-pronoun, possessive\n",
      "    whose\n",
      "WRB: Wh-adverb\n",
      "    how however whence whenever where whereby whereever wherein whereof why\n",
      "``: opening quotation mark\n",
      "    ` ``\n"
     ]
    }
   ],
   "source": [
    "import nltk\n",
    "from nltk.corpus import stopwords\n",
    "from nltk import word_tokenize\n",
    "\n",
    "nltk.help.upenn_tagset()"
   ]
  },
  {
   "cell_type": "code",
   "execution_count": 4,
   "metadata": {
    "collapsed": true
   },
   "outputs": [],
   "source": [
    "raw = \"TravelTriangle, an Indian marketplace for finding and booking travel and holidays, raised $10 million in Series B funding, according to TechCrunch. RB Investments led the round, and was joined by SAIF Partners and Bessemer Venture Partners. Read more\"\n",
    "word_list = word_tokenize(raw)\n",
    "filtered_words = [word for word in word_list if word not in stopwords.words('english')]"
   ]
  },
  {
   "cell_type": "code",
   "execution_count": 5,
   "metadata": {},
   "outputs": [
    {
     "name": "stdout",
     "output_type": "stream",
     "text": [
      "['TravelTriangle', ',', 'Indian', 'marketplace', 'finding', 'booking', 'travel', 'holidays', ',', 'raised', '$', '10', 'million', 'Series', 'B', 'funding', ',', 'according', 'TechCrunch', '.', 'RB', 'Investments', 'led', 'round', ',', 'joined', 'SAIF', 'Partners', 'Bessemer', 'Venture', 'Partners', '.', 'Read']\n"
     ]
    }
   ],
   "source": [
    "print( filtered_words)"
   ]
  },
  {
   "cell_type": "code",
   "execution_count": 6,
   "metadata": {
    "collapsed": true
   },
   "outputs": [],
   "source": [
    "new_filtered_words = []\n",
    "count = 0\n",
    "for word in filtered_words :\n",
    "    if word == \".\" or word == \",\":\n",
    "        continue\n",
    "    new_filtered_words.insert(count, word)\n",
    "    count = count + 1"
   ]
  },
  {
   "cell_type": "code",
   "execution_count": 7,
   "metadata": {},
   "outputs": [
    {
     "name": "stdout",
     "output_type": "stream",
     "text": [
      "['TravelTriangle', 'Indian', 'marketplace', 'finding', 'booking', 'travel', 'holidays', 'raised', '$', '10', 'million', 'Series', 'B', 'funding', 'according', 'TechCrunch', 'RB', 'Investments', 'led', 'round', 'joined', 'SAIF', 'Partners', 'Bessemer', 'Venture', 'Partners', 'Read']\n"
     ]
    }
   ],
   "source": [
    "print( new_filtered_words )"
   ]
  },
  {
   "cell_type": "code",
   "execution_count": 8,
   "metadata": {
    "collapsed": true
   },
   "outputs": [],
   "source": [
    "filtered_string = \" \".join ( new_filtered_words )"
   ]
  },
  {
   "cell_type": "code",
   "execution_count": 9,
   "metadata": {},
   "outputs": [
    {
     "name": "stdout",
     "output_type": "stream",
     "text": [
      "TravelTriangle Indian marketplace finding booking travel holidays raised $ 10 million Series B funding according TechCrunch RB Investments led round joined SAIF Partners Bessemer Venture Partners Read\n"
     ]
    }
   ],
   "source": [
    "print ( filtered_string )"
   ]
  },
  {
   "cell_type": "code",
   "execution_count": 10,
   "metadata": {
    "collapsed": true
   },
   "outputs": [],
   "source": [
    "from nltk import ngrams\n",
    "def ngram_it( sentence, n ):\n",
    "    sixgrams = ngrams(sentence.split(), n)\n",
    "    for grams in sixgrams:\n",
    "      print (grams)"
   ]
  },
  {
   "cell_type": "code",
   "execution_count": 11,
   "metadata": {},
   "outputs": [
    {
     "name": "stdout",
     "output_type": "stream",
     "text": [
      "('TravelTriangle', 'Indian', 'marketplace')\n",
      "('Indian', 'marketplace', 'finding')\n",
      "('marketplace', 'finding', 'booking')\n",
      "('finding', 'booking', 'travel')\n",
      "('booking', 'travel', 'holidays')\n",
      "('travel', 'holidays', 'raised')\n",
      "('holidays', 'raised', '$')\n",
      "('raised', '$', '10')\n",
      "('$', '10', 'million')\n",
      "('10', 'million', 'Series')\n",
      "('million', 'Series', 'B')\n",
      "('Series', 'B', 'funding')\n",
      "('B', 'funding', 'according')\n",
      "('funding', 'according', 'TechCrunch')\n",
      "('according', 'TechCrunch', 'RB')\n",
      "('TechCrunch', 'RB', 'Investments')\n",
      "('RB', 'Investments', 'led')\n",
      "('Investments', 'led', 'round')\n",
      "('led', 'round', 'joined')\n",
      "('round', 'joined', 'SAIF')\n",
      "('joined', 'SAIF', 'Partners')\n",
      "('SAIF', 'Partners', 'Bessemer')\n",
      "('Partners', 'Bessemer', 'Venture')\n",
      "('Bessemer', 'Venture', 'Partners')\n",
      "('Venture', 'Partners', 'Read')\n"
     ]
    }
   ],
   "source": [
    "ngram_it( filtered_string, 3 )"
   ]
  },
  {
   "cell_type": "code",
   "execution_count": 12,
   "metadata": {},
   "outputs": [
    {
     "data": {
      "text/plain": [
       "'TravelTriangle Indian marketplace finding booking travel holidays raised $ 10 million Series B funding according TechCrunch RB Investments led round joined SAIF Partners Bessemer Venture Partners Read'"
      ]
     },
     "execution_count": 12,
     "metadata": {},
     "output_type": "execute_result"
    }
   ],
   "source": [
    "filtered_string"
   ]
  },
  {
   "cell_type": "code",
   "execution_count": 13,
   "metadata": {
    "collapsed": true
   },
   "outputs": [],
   "source": [
    "def extract_entities(text_list):\n",
    "    entities=set()\n",
    "    for sentence in text_list:\n",
    "        try:\n",
    "\n",
    "            tokens = nltk.word_tokenize(sentence)\n",
    "            print( \"tokens = \", tokens )\n",
    "            tagged = nltk.pos_tag(tokens)\n",
    "            print( \"tagged = \", tagged )\n",
    "            [entities.add(word.lower()) for word,pos in tagged\n",
    "                 if pos in ['NN','NNP','NNS','NNPS','JJ','VBS','VBN','VBG','VBD']]\n",
    "\n",
    "        except Exception as e:\n",
    "            print('stage 1',e)\n",
    "    return entities"
   ]
  },
  {
   "cell_type": "code",
   "execution_count": 14,
   "metadata": {},
   "outputs": [
    {
     "name": "stdout",
     "output_type": "stream",
     "text": [
      "tokens =  ['TravelTriangle', 'Indian', 'marketplace', 'finding', 'booking', 'travel', 'holidays', 'raised', '$', '10', 'million', 'Series', 'B', 'funding', 'according', 'TechCrunch', 'RB', 'Investments', 'led', 'round', 'joined', 'SAIF', 'Partners', 'Bessemer', 'Venture', 'Partners', 'Read']\n",
      "tagged =  [('TravelTriangle', 'NNP'), ('Indian', 'JJ'), ('marketplace', 'NN'), ('finding', 'VBG'), ('booking', 'VBG'), ('travel', 'NN'), ('holidays', 'NNS'), ('raised', 'VBD'), ('$', '$'), ('10', 'CD'), ('million', 'CD'), ('Series', 'NNP'), ('B', 'NNP'), ('funding', 'VBG'), ('according', 'VBG'), ('TechCrunch', 'NNP'), ('RB', 'NNP'), ('Investments', 'NNP'), ('led', 'VBD'), ('round', 'NN'), ('joined', 'VBD'), ('SAIF', 'NNP'), ('Partners', 'NNPS'), ('Bessemer', 'NNP'), ('Venture', 'NNP'), ('Partners', 'NNP'), ('Read', 'NNP')]\n"
     ]
    },
    {
     "data": {
      "text/plain": [
       "{'according',\n",
       " 'b',\n",
       " 'bessemer',\n",
       " 'booking',\n",
       " 'finding',\n",
       " 'funding',\n",
       " 'holidays',\n",
       " 'indian',\n",
       " 'investments',\n",
       " 'joined',\n",
       " 'led',\n",
       " 'marketplace',\n",
       " 'partners',\n",
       " 'raised',\n",
       " 'rb',\n",
       " 'read',\n",
       " 'round',\n",
       " 'saif',\n",
       " 'series',\n",
       " 'techcrunch',\n",
       " 'travel',\n",
       " 'traveltriangle',\n",
       " 'venture'}"
      ]
     },
     "execution_count": 14,
     "metadata": {},
     "output_type": "execute_result"
    }
   ],
   "source": [
    "extract_entities( [filtered_string] )"
   ]
  }
 ],
 "metadata": {
  "kernelspec": {
   "display_name": "Python 3",
   "language": "python",
   "name": "python3"
  },
  "language_info": {
   "codemirror_mode": {
    "name": "ipython",
    "version": 3
   },
   "file_extension": ".py",
   "mimetype": "text/x-python",
   "name": "python",
   "nbconvert_exporter": "python",
   "pygments_lexer": "ipython3",
   "version": "3.6.1"
  }
 },
 "nbformat": 4,
 "nbformat_minor": 2
}
